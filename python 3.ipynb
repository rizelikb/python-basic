{
  "nbformat": 4,
  "nbformat_minor": 0,
  "metadata": {
    "colab": {
      "provenance": []
    },
    "kernelspec": {
      "name": "python3",
      "display_name": "Python 3"
    },
    "language_info": {
      "name": "python"
    }
  },
  "cells": [
    {
      "cell_type": "code",
      "execution_count": null,
      "metadata": {
        "id": "gn3tg1zP8eR9"
      },
      "outputs": [],
      "source": [
        "# veri tipleri\n",
        " # 1 int\n",
        " # 2 float\n",
        " # 3 string"
      ]
    },
    {
      "cell_type": "markdown",
      "source": [
        "#string ifadeler"
      ],
      "metadata": {
        "id": "SciHOgpn8shR"
      }
    },
    {
      "cell_type": "code",
      "source": [
        "# metinselifadeleri string tırnak yazma zorunluı\n",
        "#\"\" yada '' seklinde olabilir\n",
        "# string ifadeler print () fonksiyonunda ekrana yazı için kullanuılır\n",
        "# kodhücresinde en son satırd yazan ifade ekran print\n",
        "#string ifadelere ait fonklar ve metot üretilir\n",
        "# fonksiyon birden çok kullanılır metot se yanız 1 clasda kullan"
      ],
      "metadata": {
        "id": "M4uCoYwY8wRv"
      },
      "execution_count": null,
      "outputs": []
    },
    {
      "cell_type": "code",
      "source": [
        "'meraba be n kuzey'"
      ],
      "metadata": {
        "colab": {
          "base_uri": "https://localhost:8080/",
          "height": 35
        },
        "id": "eTohXiwv9tmi",
        "outputId": "b097a54e-60fd-40fd-cc60-3c67cd78263b"
      },
      "execution_count": null,
      "outputs": [
        {
          "output_type": "execute_result",
          "data": {
            "text/plain": [
              "'meraba be n kuzey'"
            ],
            "application/vnd.google.colaboratory.intrinsic+json": {
              "type": "string"
            }
          },
          "metadata": {},
          "execution_count": 6
        }
      ]
    },
    {
      "cell_type": "code",
      "source": [
        "\" ben 13 yıl rize yasamak\""
      ],
      "metadata": {
        "colab": {
          "base_uri": "https://localhost:8080/",
          "height": 35
        },
        "id": "Rjd7GWJ59wxu",
        "outputId": "9d9d0a5c-c0b9-492f-af9d-356ca789269d"
      },
      "execution_count": null,
      "outputs": [
        {
          "output_type": "execute_result",
          "data": {
            "text/plain": [
              "' ben 13 yıl rize yasamak'"
            ],
            "application/vnd.google.colaboratory.intrinsic+json": {
              "type": "string"
            }
          },
          "metadata": {},
          "execution_count": 5
        }
      ]
    },
    {
      "cell_type": "code",
      "source": [
        "tanisma = \" meraba tanıssablirmiyiz\""
      ],
      "metadata": {
        "id": "09ALJqkb95Hx"
      },
      "execution_count": null,
      "outputs": []
    },
    {
      "cell_type": "code",
      "source": [
        "tanisma"
      ],
      "metadata": {
        "colab": {
          "base_uri": "https://localhost:8080/",
          "height": 35
        },
        "id": "egAVodhT-Lot",
        "outputId": "6b84bba4-9c48-4b3b-d336-a2ab8c9ac902"
      },
      "execution_count": null,
      "outputs": [
        {
          "output_type": "execute_result",
          "data": {
            "text/plain": [
              "' meraba tanıssablirmiyiz'"
            ],
            "application/vnd.google.colaboratory.intrinsic+json": {
              "type": "string"
            }
          },
          "metadata": {},
          "execution_count": 8
        }
      ]
    },
    {
      "cell_type": "markdown",
      "source": [
        "## print-len ve type fonksiyon"
      ],
      "metadata": {
        "id": "SsPkC45e-RMm"
      }
    },
    {
      "cell_type": "code",
      "source": [],
      "metadata": {
        "id": "1Kmf_YDl-Nu_"
      },
      "execution_count": null,
      "outputs": []
    },
    {
      "cell_type": "markdown",
      "source": [
        "### print () fonksiyonu"
      ],
      "metadata": {
        "id": "Gfzmefsw-Z5K"
      }
    },
    {
      "cell_type": "code",
      "source": [
        "# print () fonksiyonu istediğim bastır ekran"
      ],
      "metadata": {
        "id": "-yP0bp16-Xgs"
      },
      "execution_count": null,
      "outputs": []
    },
    {
      "cell_type": "code",
      "source": [
        "print(53)"
      ],
      "metadata": {
        "colab": {
          "base_uri": "https://localhost:8080/"
        },
        "id": "D52Ec3fk-mvA",
        "outputId": "588df92f-0426-47d2-a500-9b4a6d045c5d"
      },
      "execution_count": null,
      "outputs": [
        {
          "output_type": "stream",
          "name": "stdout",
          "text": [
            "53\n"
          ]
        }
      ]
    },
    {
      "cell_type": "code",
      "source": [
        "print (18.4)"
      ],
      "metadata": {
        "colab": {
          "base_uri": "https://localhost:8080/"
        },
        "id": "VCnfcPu--phH",
        "outputId": "46589922-f2ca-48df-d1c8-da73b6ae4b49"
      },
      "execution_count": null,
      "outputs": [
        {
          "output_type": "stream",
          "name": "stdout",
          "text": [
            "18.4\n"
          ]
        }
      ]
    },
    {
      "cell_type": "code",
      "source": [
        "print(\"yasa rize\")"
      ],
      "metadata": {
        "colab": {
          "base_uri": "https://localhost:8080/"
        },
        "id": "Kt-bFAHa-svC",
        "outputId": "35aec2f9-2dce-4d78-f5fc-afc23030d0da"
      },
      "execution_count": null,
      "outputs": [
        {
          "output_type": "stream",
          "name": "stdout",
          "text": [
            "yasa rize\n"
          ]
        }
      ]
    },
    {
      "cell_type": "code",
      "source": [
        "cümle = \"rize sivası ezecek\""
      ],
      "metadata": {
        "id": "_rhc9Wkz-weH"
      },
      "execution_count": null,
      "outputs": []
    },
    {
      "cell_type": "code",
      "source": [
        "print(cümle)"
      ],
      "metadata": {
        "colab": {
          "base_uri": "https://localhost:8080/"
        },
        "id": "Ant_5c5n-4HX",
        "outputId": "50e2b00d-7d19-440f-a878-7673c66cfc8e"
      },
      "execution_count": null,
      "outputs": [
        {
          "output_type": "stream",
          "name": "stdout",
          "text": [
            "rize sivası ezecek\n"
          ]
        }
      ]
    },
    {
      "cell_type": "code",
      "source": [
        "print(\"cümle\")"
      ],
      "metadata": {
        "colab": {
          "base_uri": "https://localhost:8080/"
        },
        "id": "8AltOd24-9vT",
        "outputId": "4845c012-481f-48cd-bfd8-7210226b240b"
      },
      "execution_count": null,
      "outputs": [
        {
          "output_type": "stream",
          "name": "stdout",
          "text": [
            "cümle\n"
          ]
        }
      ]
    },
    {
      "cell_type": "code",
      "source": [
        "# print fonksiyon kural"
      ],
      "metadata": {
        "id": "hds6pjE2_CXe"
      },
      "execution_count": null,
      "outputs": []
    },
    {
      "cell_type": "code",
      "source": [
        "# 1)string ifade tırnK YOK HATA\n",
        "\n",
        "print (meraba) # hata\n",
        "print (\" meraba \") çalışır"
      ],
      "metadata": {
        "id": "tx_qJsTB_Q0S"
      },
      "execution_count": null,
      "outputs": []
    },
    {
      "cell_type": "code",
      "source": [
        "# 2 string dısı int fol tırna yok\n",
        "print(7)\n",
        "print(15.2)"
      ],
      "metadata": {
        "colab": {
          "base_uri": "https://localhost:8080/"
        },
        "id": "JvwGQ4yT_cSb",
        "outputId": "9b39cf30-aba5-4b8d-cc51-ee44561b7fc2"
      },
      "execution_count": null,
      "outputs": [
        {
          "output_type": "stream",
          "name": "stdout",
          "text": [
            "7\n",
            "15.2\n"
          ]
        }
      ]
    },
    {
      "cell_type": "code",
      "source": [
        "# 3 syaı tırnak bişgi o sayı değil\n",
        "print(5)\n",
        "print(\"5\")"
      ],
      "metadata": {
        "colab": {
          "base_uri": "https://localhost:8080/"
        },
        "id": "V7aPHGxU_7Ap",
        "outputId": "cddf77f0-6b4f-4e0a-ace3-57f18bf8ee3f"
      },
      "execution_count": null,
      "outputs": [
        {
          "output_type": "stream",
          "name": "stdout",
          "text": [
            "5\n",
            "5\n"
          ]
        }
      ]
    },
    {
      "cell_type": "code",
      "source": [
        "print (5 + 3)"
      ],
      "metadata": {
        "colab": {
          "base_uri": "https://localhost:8080/"
        },
        "id": "a0byV3YZARpa",
        "outputId": "c5f90d8d-8e90-4452-aeaa-aa6bc8f0ccdd"
      },
      "execution_count": null,
      "outputs": [
        {
          "output_type": "stream",
          "name": "stdout",
          "text": [
            "8\n"
          ]
        }
      ]
    },
    {
      "cell_type": "code",
      "source": [
        "print(\"5+ 3\")"
      ],
      "metadata": {
        "colab": {
          "base_uri": "https://localhost:8080/"
        },
        "id": "jX_P9wqAAf_p",
        "outputId": "d964473e-0ac2-4820-b3f5-592c4f944c23"
      },
      "execution_count": null,
      "outputs": [
        {
          "output_type": "stream",
          "name": "stdout",
          "text": [
            "5+ 3\n"
          ]
        }
      ]
    },
    {
      "cell_type": "code",
      "source": [
        "#4 bos bir str ekran yazabil\n",
        "print(\"\")"
      ],
      "metadata": {
        "colab": {
          "base_uri": "https://localhost:8080/"
        },
        "id": "QHg_gq9KAjU4",
        "outputId": "ecd3cc81-3fdd-4bf0-9b0c-ea083ab01b21"
      },
      "execution_count": null,
      "outputs": [
        {
          "output_type": "stream",
          "name": "stdout",
          "text": [
            "\n"
          ]
        }
      ]
    },
    {
      "cell_type": "code",
      "source": [
        "#5 virgül ifade arası bir bosluk bırakır\n",
        "print(\"emincan\",\"yılmaz\")"
      ],
      "metadata": {
        "colab": {
          "base_uri": "https://localhost:8080/"
        },
        "id": "OKt-syQfAspo",
        "outputId": "6ead62dd-48e5-4037-d8ff-b8b7886d8455"
      },
      "execution_count": null,
      "outputs": [
        {
          "output_type": "stream",
          "name": "stdout",
          "text": [
            "emincan yılmaz\n"
          ]
        }
      ]
    },
    {
      "cell_type": "code",
      "source": [
        "print(\"asd\",\"okul\",\"araba\")"
      ],
      "metadata": {
        "colab": {
          "base_uri": "https://localhost:8080/"
        },
        "id": "CR1Vrpr0A4RJ",
        "outputId": "ae8cdf20-d0b9-4b79-c1cd-4a67186744e5"
      },
      "execution_count": null,
      "outputs": [
        {
          "output_type": "stream",
          "name": "stdout",
          "text": [
            "asd okul araba\n"
          ]
        }
      ]
    },
    {
      "cell_type": "code",
      "source": [
        "# 6 artı boslukbıakmadan birles\n",
        "print(\"rize\"+ \"sampi\")"
      ],
      "metadata": {
        "colab": {
          "base_uri": "https://localhost:8080/"
        },
        "id": "nU0bqTgiBIlx",
        "outputId": "a4437833-828e-4c37-9c6f-47d35ae98089"
      },
      "execution_count": null,
      "outputs": [
        {
          "output_type": "stream",
          "name": "stdout",
          "text": [
            "rizesampi\n"
          ]
        }
      ]
    },
    {
      "cell_type": "code",
      "source": [
        "#soru\n",
        "print(\"100\"+5)"
      ],
      "metadata": {
        "id": "34txVHCnBZdB"
      },
      "execution_count": null,
      "outputs": []
    },
    {
      "cell_type": "code",
      "source": [
        "#bitti"
      ],
      "metadata": {
        "id": "a-8f2FmTByN3"
      },
      "execution_count": null,
      "outputs": []
    }
  ]
}