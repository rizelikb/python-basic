{
  "nbformat": 4,
  "nbformat_minor": 0,
  "metadata": {
    "colab": {
      "provenance": []
    },
    "kernelspec": {
      "name": "python3",
      "display_name": "Python 3"
    },
    "language_info": {
      "name": "python"
    }
  },
  "cells": [
    {
      "cell_type": "markdown",
      "source": [
        "# list dict tuple set"
      ],
      "metadata": {
        "id": "3OTEojD-61l9"
      }
    },
    {
      "cell_type": "code",
      "execution_count": 2,
      "metadata": {
        "id": "0TCrhgPK6vZl"
      },
      "outputs": [],
      "source": [
        "#çoklu değişken tiplerew elimizdk verilei saklamaya  e ileri kull yarar\n",
        "#4 tanedir\n",
        "\n",
        "#1 list(liste) []\n",
        "#2 dict (sözlük) {}\n",
        "#3 tuple(demet) ()\n",
        "#4 set (küme){}"
      ]
    },
    {
      "cell_type": "code",
      "source": [
        "#listeler verilerş sıralı ve değiştir seklinde saklar ve en cok kull\n",
        "#sözlk ler key:value sekliinede saklar\n",
        "#tuple demet aynı list gibi fakat list değ fakat tuple değ yok\n",
        "#kümeler verleri sırasız bir şekilde ve duplicate(kopya)ver,i yook"
      ],
      "metadata": {
        "id": "SvcCNn5T7I42"
      },
      "execution_count": 3,
      "outputs": []
    },
    {
      "cell_type": "code",
      "source": [
        "liste1=[1,7,19.3,\"ali\",\"rize\",True]\n",
        "liste2=[6,9,[53,61,76],98.1,\"murat\"]\n",
        "\n",
        "print(type(liste1),type(liste2), sep=\"\\n\")\n",
        "print(len(liste1),len(liste2), sep=\"\\n\")"
      ],
      "metadata": {
        "colab": {
          "base_uri": "https://localhost:8080/"
        },
        "id": "b0IyrStz8MS9",
        "outputId": "db8dca30-b493-4dac-fe77-342a03001be5"
      },
      "execution_count": 7,
      "outputs": [
        {
          "output_type": "stream",
          "name": "stdout",
          "text": [
            "<class 'list'>\n",
            "<class 'list'>\n",
            "6\n",
            "5\n"
          ]
        }
      ]
    },
    {
      "cell_type": "code",
      "source": [
        "liste1.append(\"kuzey\")\n",
        "liste1"
      ],
      "metadata": {
        "colab": {
          "base_uri": "https://localhost:8080/"
        },
        "id": "9a2aWEyP8uxQ",
        "outputId": "bb9e4539-323e-43e5-9e6d-75941d9e448a"
      },
      "execution_count": 8,
      "outputs": [
        {
          "output_type": "execute_result",
          "data": {
            "text/plain": [
              "[1, 7, 19.3, 'ali', 'rize', True, 'kuzey']"
            ]
          },
          "metadata": {},
          "execution_count": 8
        }
      ]
    },
    {
      "cell_type": "code",
      "source": [
        "liste1.remove(\"ali\")"
      ],
      "metadata": {
        "id": "L4BsTDBQ9Uaz"
      },
      "execution_count": 9,
      "outputs": []
    },
    {
      "cell_type": "code",
      "source": [
        "liste1"
      ],
      "metadata": {
        "colab": {
          "base_uri": "https://localhost:8080/"
        },
        "id": "Sc7lUSvg9byw",
        "outputId": "a8997688-5db8-4557-e22d-2d25f6bbdbce"
      },
      "execution_count": 10,
      "outputs": [
        {
          "output_type": "execute_result",
          "data": {
            "text/plain": [
              "[1, 7, 19.3, 'rize', True, 'kuzey']"
            ]
          },
          "metadata": {},
          "execution_count": 10
        }
      ]
    },
    {
      "cell_type": "code",
      "source": [
        "liste1[1]=69\n",
        "liste1\n"
      ],
      "metadata": {
        "colab": {
          "base_uri": "https://localhost:8080/"
        },
        "id": "ksRnELf39_1w",
        "outputId": "4e44c255-d1df-4f53-b3cb-444fd03a8afa"
      },
      "execution_count": 12,
      "outputs": [
        {
          "output_type": "execute_result",
          "data": {
            "text/plain": [
              "[1, 69, 19.3, 'rize', True, 'kuzey']"
            ]
          },
          "metadata": {},
          "execution_count": 12
        }
      ]
    },
    {
      "cell_type": "code",
      "source": [
        "tuple1=(3,10,1,\"kerem\",\"kuzey\",15.1)"
      ],
      "metadata": {
        "id": "8I-fI4zv9c19"
      },
      "execution_count": 11,
      "outputs": []
    },
    {
      "cell_type": "code",
      "source": [
        "tuple1[3]=\"emincan\""
      ],
      "metadata": {
        "colab": {
          "base_uri": "https://localhost:8080/",
          "height": 175
        },
        "id": "JIRlkimt9x2G",
        "outputId": "e491d2c4-bbdc-4bc5-9d15-0e8bf6a823b6"
      },
      "execution_count": 13,
      "outputs": [
        {
          "output_type": "error",
          "ename": "TypeError",
          "evalue": "'tuple' object does not support item assignment",
          "traceback": [
            "\u001b[0;31m---------------------------------------------------------------------------\u001b[0m",
            "\u001b[0;31mTypeError\u001b[0m                                 Traceback (most recent call last)",
            "\u001b[0;32m<ipython-input-13-fb1bd7b12dfb>\u001b[0m in \u001b[0;36m<cell line: 1>\u001b[0;34m()\u001b[0m\n\u001b[0;32m----> 1\u001b[0;31m \u001b[0mtuple1\u001b[0m\u001b[0;34m[\u001b[0m\u001b[0;36m3\u001b[0m\u001b[0;34m]\u001b[0m\u001b[0;34m=\u001b[0m\u001b[0;34m\"emincan\"\u001b[0m\u001b[0;34m\u001b[0m\u001b[0;34m\u001b[0m\u001b[0m\n\u001b[0m",
            "\u001b[0;31mTypeError\u001b[0m: 'tuple' object does not support item assignment"
          ]
        }
      ]
    },
    {
      "cell_type": "code",
      "source": [
        "set1 ={5,\"alı\",-4,102,0,0,0,0,5,5,5,5,5,0,0,0}"
      ],
      "metadata": {
        "id": "ZOxsbBr4-J9H"
      },
      "execution_count": 16,
      "outputs": []
    },
    {
      "cell_type": "code",
      "source": [
        "set1"
      ],
      "metadata": {
        "colab": {
          "base_uri": "https://localhost:8080/"
        },
        "id": "2hznebOQ-6Pv",
        "outputId": "73eeea60-8352-400c-cd7a-0cfe01687cba"
      },
      "execution_count": 17,
      "outputs": [
        {
          "output_type": "execute_result",
          "data": {
            "text/plain": [
              "{-4, 0, 102, 5, 'alı'}"
            ]
          },
          "metadata": {},
          "execution_count": 17
        }
      ]
    },
    {
      "cell_type": "code",
      "source": [
        "liste=[1,5,6,7,4,3,5,6,7,4,3,5,6,7,6,7]\n",
        "len(set(liste))"
      ],
      "metadata": {
        "colab": {
          "base_uri": "https://localhost:8080/"
        },
        "id": "xC36bghX-7Dr",
        "outputId": "8a634a33-9161-4a68-cc14-000854b3bce7"
      },
      "execution_count": 19,
      "outputs": [
        {
          "output_type": "execute_result",
          "data": {
            "text/plain": [
              "6"
            ]
          },
          "metadata": {},
          "execution_count": 19
        }
      ]
    },
    {
      "cell_type": "markdown",
      "source": [
        "#dictionaries"
      ],
      "metadata": {
        "id": "zNKi9DfF_iTt"
      }
    },
    {
      "cell_type": "code",
      "source": [
        "#key:value şeklinde değerleri tutar\n",
        "#keyler herzaman string olmalı\n",
        "dict1={\"kuzey\":14,\"emincan\":27,\"kerem\":15}"
      ],
      "metadata": {
        "id": "6UZC2-On_YKf"
      },
      "execution_count": 20,
      "outputs": []
    },
    {
      "cell_type": "code",
      "source": [
        "dict1"
      ],
      "metadata": {
        "colab": {
          "base_uri": "https://localhost:8080/"
        },
        "id": "c5te85QR_-Tm",
        "outputId": "a4340dfe-260d-4fdf-cbe3-fe8b61d6b27a"
      },
      "execution_count": 21,
      "outputs": [
        {
          "output_type": "execute_result",
          "data": {
            "text/plain": [
              "{'kuzey': 14, 'emincan': 27, 'kerem': 15}"
            ]
          },
          "metadata": {},
          "execution_count": 21
        }
      ]
    },
    {
      "cell_type": "code",
      "source": [
        "dict1.keys()"
      ],
      "metadata": {
        "colab": {
          "base_uri": "https://localhost:8080/"
        },
        "id": "-egz4dd5__Zw",
        "outputId": "a98abc1b-a411-4d0c-b61b-e3330344df4d"
      },
      "execution_count": 22,
      "outputs": [
        {
          "output_type": "execute_result",
          "data": {
            "text/plain": [
              "dict_keys(['kuzey', 'emincan', 'kerem'])"
            ]
          },
          "metadata": {},
          "execution_count": 22
        }
      ]
    },
    {
      "cell_type": "code",
      "source": [
        "dict1.values()"
      ],
      "metadata": {
        "colab": {
          "base_uri": "https://localhost:8080/"
        },
        "id": "G9r6DDaeAHmC",
        "outputId": "018cf60f-a9ff-4404-a302-0960b49d8c59"
      },
      "execution_count": 23,
      "outputs": [
        {
          "output_type": "execute_result",
          "data": {
            "text/plain": [
              "dict_values([14, 27, 15])"
            ]
          },
          "metadata": {},
          "execution_count": 23
        }
      ]
    },
    {
      "cell_type": "code",
      "source": [
        "dict1[\"kerem\"]"
      ],
      "metadata": {
        "colab": {
          "base_uri": "https://localhost:8080/"
        },
        "id": "WnHGZmCXAQS7",
        "outputId": "566b27b9-e6ba-4abc-bbea-7a59389be594"
      },
      "execution_count": 26,
      "outputs": [
        {
          "output_type": "execute_result",
          "data": {
            "text/plain": [
              "15"
            ]
          },
          "metadata": {},
          "execution_count": 26
        }
      ]
    },
    {
      "cell_type": "code",
      "source": [
        "dict1[\"emincan\"]=25\n",
        "dict1"
      ],
      "metadata": {
        "colab": {
          "base_uri": "https://localhost:8080/"
        },
        "id": "sqsuA5EMAVu_",
        "outputId": "a0c7c295-7b5a-45bc-c5dd-faeba6dd1e65"
      },
      "execution_count": 27,
      "outputs": [
        {
          "output_type": "execute_result",
          "data": {
            "text/plain": [
              "{'kuzey': 14, 'emincan': 25, 'kerem': 15}"
            ]
          },
          "metadata": {},
          "execution_count": 27
        }
      ]
    },
    {
      "cell_type": "code",
      "source": [
        "#gerçek hayatta kull sözlükler benzeri bir kull vardır\n",
        "#sözlükte key(anahtar) ve value(değer) var\n",
        "#biz keyleri kullanarak istediğimiz value kull var"
      ],
      "metadata": {
        "id": "y2JMIB6YAnlp"
      },
      "execution_count": 28,
      "outputs": []
    },
    {
      "cell_type": "code",
      "source": [
        "bilgi={}\n",
        "type(bilgi)"
      ],
      "metadata": {
        "colab": {
          "base_uri": "https://localhost:8080/"
        },
        "id": "jYI8g40hBAzy",
        "outputId": "d044f214-b806-4d5c-ad7f-598b7d0490af"
      },
      "execution_count": 29,
      "outputs": [
        {
          "output_type": "execute_result",
          "data": {
            "text/plain": [
              "dict"
            ]
          },
          "metadata": {},
          "execution_count": 29
        }
      ]
    },
    {
      "cell_type": "code",
      "source": [
        "emincan_bilgiler = {\"ad\":\"emincan\",\"yas\":27,\"il\":\"rize\"}"
      ],
      "metadata": {
        "id": "4g5qrncDBKIA"
      },
      "execution_count": 30,
      "outputs": []
    },
    {
      "cell_type": "code",
      "source": [
        "emincan_bilgiler[\"yas\"]"
      ],
      "metadata": {
        "colab": {
          "base_uri": "https://localhost:8080/"
        },
        "id": "8CXck7pLBgIe",
        "outputId": "ba9032ab-6fb3-482f-add0-935049fc6194"
      },
      "execution_count": 31,
      "outputs": [
        {
          "output_type": "execute_result",
          "data": {
            "text/plain": [
              "27"
            ]
          },
          "metadata": {},
          "execution_count": 31
        }
      ]
    },
    {
      "cell_type": "code",
      "source": [
        "len(emincan_bilgiler)"
      ],
      "metadata": {
        "colab": {
          "base_uri": "https://localhost:8080/"
        },
        "id": "258_bS6eBpYP",
        "outputId": "0de44420-f6b5-48e0-e308-a34a002550d8"
      },
      "execution_count": 32,
      "outputs": [
        {
          "output_type": "execute_result",
          "data": {
            "text/plain": [
              "3"
            ]
          },
          "metadata": {},
          "execution_count": 32
        }
      ]
    },
    {
      "cell_type": "code",
      "source": [
        "emincan_bilgiler.keys()"
      ],
      "metadata": {
        "colab": {
          "base_uri": "https://localhost:8080/"
        },
        "id": "5N4lJXrEBxL2",
        "outputId": "9ee0de75-eaec-42ef-b4a0-0c614f4b327b"
      },
      "execution_count": 33,
      "outputs": [
        {
          "output_type": "execute_result",
          "data": {
            "text/plain": [
              "dict_keys(['ad', 'yas', 'il'])"
            ]
          },
          "metadata": {},
          "execution_count": 33
        }
      ]
    },
    {
      "cell_type": "code",
      "source": [
        "emincan_bilgiler.items()"
      ],
      "metadata": {
        "colab": {
          "base_uri": "https://localhost:8080/"
        },
        "id": "5GfzcVH1COqR",
        "outputId": "81b8d183-136f-42ad-90ef-63892e367515"
      },
      "execution_count": 34,
      "outputs": [
        {
          "output_type": "execute_result",
          "data": {
            "text/plain": [
              "dict_items([('ad', 'emincan'), ('yas', 27), ('il', 'rize')])"
            ]
          },
          "metadata": {},
          "execution_count": 34
        }
      ]
    },
    {
      "cell_type": "code",
      "source": [
        "#done"
      ],
      "metadata": {
        "id": "X6PcMTpACeDQ"
      },
      "execution_count": 35,
      "outputs": []
    },
    {
      "cell_type": "code",
      "source": [],
      "metadata": {
        "id": "4iM7beZNCw1C"
      },
      "execution_count": null,
      "outputs": []
    }
  ]
}