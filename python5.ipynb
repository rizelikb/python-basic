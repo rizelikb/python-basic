{
  "nbformat": 4,
  "nbformat_minor": 0,
  "metadata": {
    "colab": {
      "provenance": []
    },
    "kernelspec": {
      "name": "python3",
      "display_name": "Python 3"
    },
    "language_info": {
      "name": "python"
    }
  },
  "cells": [
    {
      "cell_type": "markdown",
      "source": [
        "\n",
        "# ESCAPE KARAKTERLERİ\n",
        "\n"
      ],
      "metadata": {
        "id": "uzuolTYI-xV-"
      }
    },
    {
      "cell_type": "code",
      "source": [
        "#/t tab tusu demek ve 4 karaktr bosluk bırak\n",
        "#/n newline demek ve bir alt geçmeye yarar"
      ],
      "metadata": {
        "id": "Ra_d42sd-8Vh"
      },
      "execution_count": null,
      "outputs": []
    },
    {
      "cell_type": "code",
      "execution_count": null,
      "metadata": {
        "colab": {
          "base_uri": "https://localhost:8080/"
        },
        "id": "1-XgVKWP-BeQ",
        "outputId": "4a6c22fa-4c6c-44d4-dd46-bf41f457c0e4"
      },
      "outputs": [
        {
          "output_type": "stream",
          "name": "stdout",
          "text": [
            "kuzey\n",
            "beyaz\n"
          ]
        }
      ],
      "source": [
        "print(\"kuzey\") # acemi\n",
        "print(\"beyaz\")"
      ]
    },
    {
      "cell_type": "code",
      "source": [
        "print(\"kuzey\\nbeyaz\")"
      ],
      "metadata": {
        "colab": {
          "base_uri": "https://localhost:8080/"
        },
        "id": "rdz78eki_XT9",
        "outputId": "cf511cc6-e052-424c-e542-0075bfe58b1a"
      },
      "execution_count": null,
      "outputs": [
        {
          "output_type": "stream",
          "name": "stdout",
          "text": [
            "kuzey\n",
            "beyaz\n"
          ]
        }
      ]
    },
    {
      "cell_type": "code",
      "source": [
        "#yasadığınız ülke vesehri arada bir bosluk yaz"
      ],
      "metadata": {
        "id": "4Y7uAaE0-nFq"
      },
      "execution_count": null,
      "outputs": []
    },
    {
      "cell_type": "code",
      "source": [
        "print(\"tr\\trize\")"
      ],
      "metadata": {
        "colab": {
          "base_uri": "https://localhost:8080/"
        },
        "id": "6gKXdDE5_c1H",
        "outputId": "e6fbc89b-bef5-4463-902a-f60b54642c2e"
      },
      "execution_count": null,
      "outputs": [
        {
          "output_type": "stream",
          "name": "stdout",
          "text": [
            "tr\trize\n"
          ]
        }
      ]
    },
    {
      "cell_type": "code",
      "source": [
        "# isim teb kada bos soyis alt yas"
      ],
      "metadata": {
        "id": "aa5hCrZ4_mPK"
      },
      "execution_count": null,
      "outputs": []
    },
    {
      "cell_type": "code",
      "source": [
        "print(\"kuzey\\tbeyaz\\n13\")"
      ],
      "metadata": {
        "colab": {
          "base_uri": "https://localhost:8080/"
        },
        "id": "aGGtXeUjAIhu",
        "outputId": "f081a423-641b-4c0f-99a2-d1f2c02201bd"
      },
      "execution_count": null,
      "outputs": [
        {
          "output_type": "stream",
          "name": "stdout",
          "text": [
            "kuzey\tbeyaz\n",
            "13\n"
          ]
        }
      ]
    },
    {
      "cell_type": "code",
      "source": [],
      "metadata": {
        "id": "C-26ASijARSW"
      },
      "execution_count": null,
      "outputs": []
    },
    {
      "cell_type": "markdown",
      "source": [
        "#indexing"
      ],
      "metadata": {
        "id": "cRb3lVNYAUcF"
      }
    },
    {
      "cell_type": "code",
      "source": [
        "#index numarası sıra numarasıdır indexing islen ise indexini bildiğ bir karakter cekmeye denir\n",
        "#!!! uytarı bilgisayar sıraya 0 baslar\n",
        "#düzindexleme ve tersten yapılabilir\n",
        "#ndexleme[]ile yapılır\n",
        "#index sadece strşn uygulanır\n"
      ],
      "metadata": {
        "id": "9ehpMhZ8AWSW"
      },
      "execution_count": null,
      "outputs": []
    },
    {
      "cell_type": "code",
      "source": [
        "a = \"kodlama\""
      ],
      "metadata": {
        "id": "9_srsZqZAmQd"
      },
      "execution_count": null,
      "outputs": []
    },
    {
      "cell_type": "code",
      "source": [
        "a[0]"
      ],
      "metadata": {
        "colab": {
          "base_uri": "https://localhost:8080/",
          "height": 35
        },
        "id": "ELcrPIYABL-U",
        "outputId": "1f3c6bdb-30c9-4b43-8dc3-881d6aa146c1"
      },
      "execution_count": null,
      "outputs": [
        {
          "output_type": "execute_result",
          "data": {
            "text/plain": [
              "'k'"
            ],
            "application/vnd.google.colaboratory.intrinsic+json": {
              "type": "string"
            }
          },
          "metadata": {},
          "execution_count": 15
        }
      ]
    },
    {
      "cell_type": "code",
      "source": [
        "a[3]"
      ],
      "metadata": {
        "colab": {
          "base_uri": "https://localhost:8080/",
          "height": 35
        },
        "id": "mbkRsJvfBQSu",
        "outputId": "e7f33111-86ff-405a-ae4d-b431d172b2f0"
      },
      "execution_count": null,
      "outputs": [
        {
          "output_type": "execute_result",
          "data": {
            "text/plain": [
              "'l'"
            ],
            "application/vnd.google.colaboratory.intrinsic+json": {
              "type": "string"
            }
          },
          "metadata": {},
          "execution_count": 16
        }
      ]
    },
    {
      "cell_type": "code",
      "source": [
        "a[-4]"
      ],
      "metadata": {
        "colab": {
          "base_uri": "https://localhost:8080/",
          "height": 35
        },
        "id": "OrpA7I6gBUBx",
        "outputId": "c497f861-f5a5-4a10-f9ae-c232eafbc6a6"
      },
      "execution_count": null,
      "outputs": [
        {
          "output_type": "execute_result",
          "data": {
            "text/plain": [
              "'l'"
            ],
            "application/vnd.google.colaboratory.intrinsic+json": {
              "type": "string"
            }
          },
          "metadata": {},
          "execution_count": 17
        }
      ]
    },
    {
      "cell_type": "code",
      "source": [
        "#soru1 cumle =  bu deneme cumlesi yaz\n",
        "#ardından cumlenın 4. ındex cek\n",
        "cumle =\"bu deneme cumlesidir\""
      ],
      "metadata": {
        "id": "NhDxQBRoBcYw"
      },
      "execution_count": null,
      "outputs": []
    },
    {
      "cell_type": "code",
      "source": [
        "cumle[4]"
      ],
      "metadata": {
        "colab": {
          "base_uri": "https://localhost:8080/",
          "height": 35
        },
        "id": "ql0gHUF-B0EI",
        "outputId": "01a062d8-df58-43ed-aa62-fa6e8ae21756"
      },
      "execution_count": null,
      "outputs": [
        {
          "output_type": "execute_result",
          "data": {
            "text/plain": [
              "'e'"
            ],
            "application/vnd.google.colaboratory.intrinsic+json": {
              "type": "string"
            }
          },
          "metadata": {},
          "execution_count": 20
        }
      ]
    },
    {
      "cell_type": "code",
      "source": [
        "# cumlenın 6 harf cek"
      ],
      "metadata": {
        "id": "wUoINi-2B75h"
      },
      "execution_count": null,
      "outputs": []
    },
    {
      "cell_type": "code",
      "source": [
        "cumle[5]"
      ],
      "metadata": {
        "colab": {
          "base_uri": "https://localhost:8080/",
          "height": 35
        },
        "id": "aKwd5dTbCODb",
        "outputId": "86e88192-9d82-4809-a776-081487fc55fb"
      },
      "execution_count": null,
      "outputs": [
        {
          "output_type": "execute_result",
          "data": {
            "text/plain": [
              "'n'"
            ],
            "application/vnd.google.colaboratory.intrinsic+json": {
              "type": "string"
            }
          },
          "metadata": {},
          "execution_count": 22
        }
      ]
    },
    {
      "cell_type": "code",
      "source": [
        "#cumle l harf cek"
      ],
      "metadata": {
        "id": "7SnpBgJSCQpI"
      },
      "execution_count": null,
      "outputs": []
    },
    {
      "cell_type": "code",
      "source": [
        "cumle[13]"
      ],
      "metadata": {
        "colab": {
          "base_uri": "https://localhost:8080/",
          "height": 35
        },
        "id": "YZ6New4MCZP1",
        "outputId": "ad8a14db-bd1f-4c3d-dac2-529e34565a14"
      },
      "execution_count": null,
      "outputs": [
        {
          "output_type": "execute_result",
          "data": {
            "text/plain": [
              "'l'"
            ],
            "application/vnd.google.colaboratory.intrinsic+json": {
              "type": "string"
            }
          },
          "metadata": {},
          "execution_count": 24
        }
      ]
    },
    {
      "cell_type": "code",
      "source": [
        "cumle[-7]"
      ],
      "metadata": {
        "colab": {
          "base_uri": "https://localhost:8080/",
          "height": 35
        },
        "id": "duvkwLXRCgMq",
        "outputId": "bcbcf814-9330-4f8f-b0c4-3711c1ca6615"
      },
      "execution_count": null,
      "outputs": [
        {
          "output_type": "execute_result",
          "data": {
            "text/plain": [
              "'l'"
            ],
            "application/vnd.google.colaboratory.intrinsic+json": {
              "type": "string"
            }
          },
          "metadata": {},
          "execution_count": 25
        }
      ]
    },
    {
      "cell_type": "code",
      "source": [
        "#cuml r cek"
      ],
      "metadata": {
        "id": "PBFnp_bNCqdu"
      },
      "execution_count": null,
      "outputs": []
    },
    {
      "cell_type": "code",
      "source": [
        "cumle[-1]"
      ],
      "metadata": {
        "colab": {
          "base_uri": "https://localhost:8080/",
          "height": 35
        },
        "id": "d0R9bEm-CwHB",
        "outputId": "33315335-849d-4a82-9129-57a7e5587570"
      },
      "execution_count": null,
      "outputs": [
        {
          "output_type": "execute_result",
          "data": {
            "text/plain": [
              "'r'"
            ],
            "application/vnd.google.colaboratory.intrinsic+json": {
              "type": "string"
            }
          },
          "metadata": {},
          "execution_count": 27
        }
      ]
    },
    {
      "cell_type": "code",
      "source": [],
      "metadata": {
        "id": "5mdMeJexC1s4"
      },
      "execution_count": null,
      "outputs": []
    },
    {
      "cell_type": "markdown",
      "source": [
        "#slicing"
      ],
      "metadata": {
        "id": "0MsLNb_WC433"
      }
    },
    {
      "cell_type": "code",
      "source": [
        "#slicing dilimleme stering iste dilim alır\n",
        "#slicing islemi start stop step\n",
        "#slicingde stop dahil değ\n",
        "#step yazılmaz default olarak kabul edil"
      ],
      "metadata": {
        "id": "-zz5EAPiC9eh"
      },
      "execution_count": null,
      "outputs": []
    },
    {
      "cell_type": "code",
      "source": [
        "a =\"kodlama eğitimi alıyorum\""
      ],
      "metadata": {
        "id": "VKoLRuIUDdP4"
      },
      "execution_count": null,
      "outputs": []
    },
    {
      "cell_type": "code",
      "source": [
        "#slicing yapa eği kısmını cekl"
      ],
      "metadata": {
        "id": "M8PE0Lb8DhRy"
      },
      "execution_count": null,
      "outputs": []
    },
    {
      "cell_type": "code",
      "source": [
        "a[8:15]"
      ],
      "metadata": {
        "colab": {
          "base_uri": "https://localhost:8080/",
          "height": 35
        },
        "id": "Ph2a5dJNDk3-",
        "outputId": "e6c5ca33-68ee-4ef1-8d6d-6661f35360d6"
      },
      "execution_count": null,
      "outputs": [
        {
          "output_type": "execute_result",
          "data": {
            "text/plain": [
              "'eğitim '"
            ],
            "application/vnd.google.colaboratory.intrinsic+json": {
              "type": "string"
            }
          },
          "metadata": {},
          "execution_count": 34
        }
      ]
    },
    {
      "cell_type": "code",
      "source": [
        "#sor a ıo kısım al"
      ],
      "metadata": {
        "id": "PkYWLTA2D0CU"
      },
      "execution_count": null,
      "outputs": []
    },
    {
      "cell_type": "code",
      "source": [
        "a[15:20:2]"
      ],
      "metadata": {
        "colab": {
          "base_uri": "https://localhost:8080/",
          "height": 35
        },
        "id": "fqNsu_qIEfSM",
        "outputId": "53817e1d-3ba5-40a5-befc-421c330fb1f1"
      },
      "execution_count": null,
      "outputs": [
        {
          "output_type": "execute_result",
          "data": {
            "text/plain": [
              "'aıo'"
            ],
            "application/vnd.google.colaboratory.intrinsic+json": {
              "type": "string"
            }
          },
          "metadata": {},
          "execution_count": 41
        }
      ]
    },
    {
      "cell_type": "code",
      "source": [
        "# eden basla sonuna hep al"
      ],
      "metadata": {
        "id": "cGqBamtHEzME"
      },
      "execution_count": null,
      "outputs": []
    },
    {
      "cell_type": "code",
      "source": [
        "a[9:]"
      ],
      "metadata": {
        "colab": {
          "base_uri": "https://localhost:8080/",
          "height": 35
        },
        "id": "pFRVg_K0FOIH",
        "outputId": "2c7b9605-b6ea-4227-f9fc-7bbc349f5021"
      },
      "execution_count": null,
      "outputs": [
        {
          "output_type": "execute_result",
          "data": {
            "text/plain": [
              "'ğitimi alıyorum'"
            ],
            "application/vnd.google.colaboratory.intrinsic+json": {
              "type": "string"
            }
          },
          "metadata": {},
          "execution_count": 45
        }
      ]
    },
    {
      "cell_type": "code",
      "source": [
        "#stopnokta belir skonuna kada git"
      ],
      "metadata": {
        "id": "BTW5AiqyFa3m"
      },
      "execution_count": null,
      "outputs": []
    },
    {
      "cell_type": "code",
      "source": [
        "b=\"hskfslkgnsjhfjsdflkhsdjfhlkdjfgjkshflsnjkfhksjnfksjfnrkjfhusenflksjgdkgrn\""
      ],
      "metadata": {
        "id": "UAfobOU1Fm8Z"
      },
      "execution_count": null,
      "outputs": []
    },
    {
      "cell_type": "code",
      "source": [
        "b[0:]"
      ],
      "metadata": {
        "colab": {
          "base_uri": "https://localhost:8080/",
          "height": 35
        },
        "id": "0i7qX44-Fsxy",
        "outputId": "8af2f487-6a11-4a92-af91-c912f9117c4d"
      },
      "execution_count": null,
      "outputs": [
        {
          "output_type": "execute_result",
          "data": {
            "text/plain": [
              "'hskfslkgnsjhfjsdflkhsdjfhlkdjfgjkshflsnjkfhksjnfksjfnrkjfhusenflksjgdkgrn'"
            ],
            "application/vnd.google.colaboratory.intrinsic+json": {
              "type": "string"
            }
          },
          "metadata": {},
          "execution_count": 49
        }
      ]
    },
    {
      "cell_type": "code",
      "source": [
        "a[: : -1]"
      ],
      "metadata": {
        "colab": {
          "base_uri": "https://localhost:8080/",
          "height": 35
        },
        "id": "dEWeAc64Fw2d",
        "outputId": "949cd7f2-75c0-49a4-d604-29a60626c80d"
      },
      "execution_count": null,
      "outputs": [
        {
          "output_type": "execute_result",
          "data": {
            "text/plain": [
              "'muroyıla imitiğe amaldok'"
            ],
            "application/vnd.google.colaboratory.intrinsic+json": {
              "type": "string"
            }
          },
          "metadata": {},
          "execution_count": 50
        }
      ]
    },
    {
      "cell_type": "code",
      "source": [
        "#done"
      ],
      "metadata": {
        "id": "Gn-4sFAcGBBs"
      },
      "execution_count": null,
      "outputs": []
    },
    {
      "cell_type": "code",
      "source": [],
      "metadata": {
        "id": "jot_0duVGHwm"
      },
      "execution_count": null,
      "outputs": []
    }
  ]
}