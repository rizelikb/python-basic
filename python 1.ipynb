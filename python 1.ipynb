{
  "nbformat": 4,
  "nbformat_minor": 0,
  "metadata": {
    "colab": {
      "provenance": []
    },
    "kernelspec": {
      "name": "python3",
      "display_name": "Python 3"
    },
    "language_info": {
      "name": "python"
    }
  },
  "cells": [
    {
      "cell_type": "code",
      "execution_count": null,
      "metadata": {
        "id": "PR_b6EFXoSlg"
      },
      "outputs": [],
      "source": [
        "#Yorum satırı yapmak için hashtag kullanılır\n",
        "#Pyhton dosyaları .py veya .ipynb uzantılı dosyalarla kullanılır\n",
        "# .py uzantılı dosyalar bir bütün olarak, .ipynb uzantılı dosyalarsa kod hücreleri halinde çalışır\n",
        "#bütün programlama dilleri en üstten en aşağıya doğru satır satır çalışır\n",
        "#yazacağımız kodların yanına açıklama yapmak için hashtag kullanılabilir\n",
        "#kod hücresini çalıştırmak için shift + enter tuşuna basılır\n",
        "#ondalık sayılar , ile değil . ile gösterilir"
      ]
    },
    {
      "cell_type": "code",
      "source": [
        "# pyhtonda mateATİKSEL İŞlemler yapılabilir\n",
        "# + : toplama\n",
        "#- : çıkarma\n",
        "#* : çarpma\n",
        "#/ : bölme\n",
        "# // : kalansız bölme\n",
        "# ** üs alma"
      ],
      "metadata": {
        "id": "dYo3_Ja2oqRd"
      },
      "execution_count": null,
      "outputs": []
    },
    {
      "cell_type": "code",
      "source": [
        "# Python da bazı veri tipleri vardır\n",
        "# 1 integer tam sayı\n",
        "#2 float ondalık syaı\n",
        "# 3 string yazılat"
      ],
      "metadata": {
        "id": "iUlc9yQjoqsC"
      },
      "execution_count": null,
      "outputs": []
    },
    {
      "cell_type": "code",
      "source": [
        "#6 :int\n",
        "# 18.2 float\n",
        "#\"ben rizeliyimdur\" string\n",
        "#17.0 float\n",
        "# \"7 string\""
      ],
      "metadata": {
        "id": "QZdeZw1bsZhT"
      },
      "execution_count": null,
      "outputs": []
    },
    {
      "cell_type": "code",
      "source": [
        "3 + 5"
      ],
      "metadata": {
        "id": "N2tNkMH-tNiD",
        "outputId": "f8ec35a7-d494-4a1e-b7ef-422f9e9b3f41",
        "colab": {
          "base_uri": "https://localhost:8080/"
        }
      },
      "execution_count": null,
      "outputs": [
        {
          "output_type": "execute_result",
          "data": {
            "text/plain": [
              "8"
            ]
          },
          "metadata": {},
          "execution_count": 6
        }
      ]
    },
    {
      "cell_type": "code",
      "source": [
        "18.3 + 20.2"
      ],
      "metadata": {
        "id": "SsKN5ZhdtapK",
        "outputId": "f36bfcc2-6c18-45fd-945d-3d3780e1ec0e",
        "colab": {
          "base_uri": "https://localhost:8080/"
        }
      },
      "execution_count": null,
      "outputs": [
        {
          "output_type": "execute_result",
          "data": {
            "text/plain": [
              "38.5"
            ]
          },
          "metadata": {},
          "execution_count": 8
        }
      ]
    },
    {
      "cell_type": "code",
      "source": [
        "2119308*17301+38104328"
      ],
      "metadata": {
        "id": "T-Pc74WHtoaF",
        "outputId": "4a16fb0a-29f3-487a-d374-7565ff1b9157",
        "colab": {
          "base_uri": "https://localhost:8080/"
        }
      },
      "execution_count": null,
      "outputs": [
        {
          "output_type": "execute_result",
          "data": {
            "text/plain": [
              "36704252036"
            ]
          },
          "metadata": {},
          "execution_count": 9
        }
      ]
    },
    {
      "cell_type": "code",
      "source": [
        "64*192"
      ],
      "metadata": {
        "id": "PE46EzLotxvW",
        "outputId": "01cab076-09df-4ad9-cfc6-2a31608c3e0a",
        "colab": {
          "base_uri": "https://localhost:8080/"
        }
      },
      "execution_count": null,
      "outputs": [
        {
          "output_type": "execute_result",
          "data": {
            "text/plain": [
              "12288"
            ]
          },
          "metadata": {},
          "execution_count": 11
        }
      ]
    },
    {
      "cell_type": "code",
      "source": [
        "5**3"
      ],
      "metadata": {
        "id": "d7c3N_qft23A",
        "outputId": "2f919dd3-3321-4395-de1f-e0efcaa82f12",
        "colab": {
          "base_uri": "https://localhost:8080/"
        }
      },
      "execution_count": null,
      "outputs": [
        {
          "output_type": "execute_result",
          "data": {
            "text/plain": [
              "125"
            ]
          },
          "metadata": {},
          "execution_count": 12
        }
      ]
    },
    {
      "cell_type": "code",
      "source": [
        "10 / 2"
      ],
      "metadata": {
        "id": "zgSZSGqzuBPm",
        "outputId": "0ef27afd-af03-4fc3-b00c-e7d10e53eca5",
        "colab": {
          "base_uri": "https://localhost:8080/"
        }
      },
      "execution_count": null,
      "outputs": [
        {
          "output_type": "execute_result",
          "data": {
            "text/plain": [
              "5.0"
            ]
          },
          "metadata": {},
          "execution_count": 14
        }
      ]
    },
    {
      "cell_type": "code",
      "source": [
        "10 // 2"
      ],
      "metadata": {
        "id": "sC4VgQU2uL1U",
        "outputId": "a4f1baa6-94c5-45a1-81c2-268fa095bc0e",
        "colab": {
          "base_uri": "https://localhost:8080/"
        }
      },
      "execution_count": null,
      "outputs": [
        {
          "output_type": "execute_result",
          "data": {
            "text/plain": [
              "5"
            ]
          },
          "metadata": {},
          "execution_count": 15
        }
      ]
    },
    {
      "cell_type": "code",
      "source": [
        "11 / 2"
      ],
      "metadata": {
        "id": "45WQeHpkub-x",
        "outputId": "933fcc5c-cf70-484e-b340-7b20c8d5f61d",
        "colab": {
          "base_uri": "https://localhost:8080/"
        }
      },
      "execution_count": null,
      "outputs": [
        {
          "output_type": "execute_result",
          "data": {
            "text/plain": [
              "5.5"
            ]
          },
          "metadata": {},
          "execution_count": 16
        }
      ]
    },
    {
      "cell_type": "code",
      "source": [
        "11//2"
      ],
      "metadata": {
        "id": "vPR_nGG1ugqo",
        "outputId": "3e53bc0a-4821-497e-bd61-963052a934c6",
        "colab": {
          "base_uri": "https://localhost:8080/"
        }
      },
      "execution_count": null,
      "outputs": [
        {
          "output_type": "execute_result",
          "data": {
            "text/plain": [
              "5"
            ]
          },
          "metadata": {},
          "execution_count": 17
        }
      ]
    },
    {
      "cell_type": "code",
      "source": [
        "3**4"
      ],
      "metadata": {
        "id": "0ARCM9NiulTn",
        "outputId": "e87b55d4-8e5f-4a1e-d5f3-4105f40901e0",
        "colab": {
          "base_uri": "https://localhost:8080/"
        }
      },
      "execution_count": null,
      "outputs": [
        {
          "output_type": "execute_result",
          "data": {
            "text/plain": [
              "81"
            ]
          },
          "metadata": {},
          "execution_count": 18
        }
      ]
    },
    {
      "cell_type": "code",
      "source": [
        "1671796629769*71034702740190347108"
      ],
      "metadata": {
        "id": "4ChfDkrbuvrF",
        "outputId": "b3334dd8-6956-4345-dd17-3d3807fcdc19",
        "colab": {
          "base_uri": "https://localhost:8080/"
        }
      },
      "execution_count": null,
      "outputs": [
        {
          "output_type": "execute_result",
          "data": {
            "text/plain": [
              "118755576637692971520700675858052"
            ]
          },
          "metadata": {},
          "execution_count": 19
        }
      ]
    },
    {
      "cell_type": "code",
      "source": [
        "#Bitti"
      ],
      "metadata": {
        "id": "gyVvlGTTu2C5"
      },
      "execution_count": null,
      "outputs": []
    }
  ]
}