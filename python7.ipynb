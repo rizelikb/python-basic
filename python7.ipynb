{
  "nbformat": 4,
  "nbformat_minor": 0,
  "metadata": {
    "colab": {
      "provenance": []
    },
    "kernelspec": {
      "name": "python3",
      "display_name": "Python 3"
    },
    "language_info": {
      "name": "python"
    }
  },
  "cells": [
    {
      "cell_type": "markdown",
      "source": [
        "#veri türleri"
      ],
      "metadata": {
        "id": "ldPMyli1AB4A"
      }
    },
    {
      "cell_type": "code",
      "execution_count": null,
      "metadata": {
        "id": "zajFswm8_s5b"
      },
      "outputs": [],
      "source": [
        "# 1 string yazı\n",
        "# 2  float ondalık\n",
        "# integer tan sayı\n",
        "# 4 bool boolen edeğerler tr ya da fals değerdir"
      ]
    },
    {
      "cell_type": "markdown",
      "source": [
        "#bool veri tipi"
      ],
      "metadata": {
        "id": "w4j6mYMaAcWb"
      }
    },
    {
      "cell_type": "code",
      "source": [
        "# true ya da false ifadeleri bool değer denir\n",
        "# bir takım operatör vardı .  * / : ...\n",
        "#simdi e karsılas operatör görcez"
      ],
      "metadata": {
        "id": "aNSktJzgAD4Q"
      },
      "execution_count": null,
      "outputs": []
    },
    {
      "cell_type": "markdown",
      "source": [
        "## karsılastırma oparöteri"
      ],
      "metadata": {
        "id": "V7AJknyGA3LP"
      }
    },
    {
      "cell_type": "code",
      "source": [
        "# == eşşittir demek\n",
        "# != eşit değil\n",
        "#> buyuktur\n",
        "#< kucuknişsareti\n",
        "#>= buyuk esiitir\n",
        "#<= kucuk essittir\n",
        "\n",
        "#karsılastırmanın sonunda true ya da false buo değ doner"
      ],
      "metadata": {
        "id": "ESF95GPUA6j0"
      },
      "execution_count": null,
      "outputs": []
    },
    {
      "cell_type": "code",
      "source": [
        "5 == 5"
      ],
      "metadata": {
        "colab": {
          "base_uri": "https://localhost:8080/"
        },
        "id": "D3uYnpHwBkur",
        "outputId": "d68276b3-f03c-4017-a03b-b70a4b511222"
      },
      "execution_count": null,
      "outputs": [
        {
          "output_type": "execute_result",
          "data": {
            "text/plain": [
              "True"
            ]
          },
          "metadata": {},
          "execution_count": 2
        }
      ]
    },
    {
      "cell_type": "code",
      "source": [
        " 7 ==4"
      ],
      "metadata": {
        "colab": {
          "base_uri": "https://localhost:8080/"
        },
        "id": "HhFErZY1BqZV",
        "outputId": "848cdbb3-2069-4637-957c-bbc3ed443535"
      },
      "execution_count": null,
      "outputs": [
        {
          "output_type": "execute_result",
          "data": {
            "text/plain": [
              "False"
            ]
          },
          "metadata": {},
          "execution_count": 3
        }
      ]
    },
    {
      "cell_type": "code",
      "source": [
        "6 != 6"
      ],
      "metadata": {
        "colab": {
          "base_uri": "https://localhost:8080/"
        },
        "id": "URUBb2emBtbO",
        "outputId": "898bb91e-9dd1-44a8-c551-5bc786232268"
      },
      "execution_count": null,
      "outputs": [
        {
          "output_type": "execute_result",
          "data": {
            "text/plain": [
              "False"
            ]
          },
          "metadata": {},
          "execution_count": 4
        }
      ]
    },
    {
      "cell_type": "code",
      "source": [
        "21312 + 465 >23433"
      ],
      "metadata": {
        "colab": {
          "base_uri": "https://localhost:8080/"
        },
        "id": "u5MmTPx2Bwan",
        "outputId": "1f9738a0-f05c-498a-8e25-fbf389ab4f9f"
      },
      "execution_count": null,
      "outputs": [
        {
          "output_type": "execute_result",
          "data": {
            "text/plain": [
              "False"
            ]
          },
          "metadata": {},
          "execution_count": 5
        }
      ]
    },
    {
      "cell_type": "code",
      "source": [
        "28364836 / 44 >= 1273"
      ],
      "metadata": {
        "colab": {
          "base_uri": "https://localhost:8080/"
        },
        "id": "QG-kVjw8B5fy",
        "outputId": "127413bc-934e-4d42-d218-f263ed6289d8"
      },
      "execution_count": null,
      "outputs": [
        {
          "output_type": "execute_result",
          "data": {
            "text/plain": [
              "True"
            ]
          },
          "metadata": {},
          "execution_count": 6
        }
      ]
    },
    {
      "cell_type": "code",
      "source": [
        "5 >= 5"
      ],
      "metadata": {
        "colab": {
          "base_uri": "https://localhost:8080/"
        },
        "id": "NW2-ier7CCEf",
        "outputId": "55823f3b-09e3-413d-d7bf-85c40ada2144"
      },
      "execution_count": null,
      "outputs": [
        {
          "output_type": "execute_result",
          "data": {
            "text/plain": [
              "True"
            ]
          },
          "metadata": {},
          "execution_count": 7
        }
      ]
    },
    {
      "cell_type": "markdown",
      "source": [
        "## mantık sal oparoterler"
      ],
      "metadata": {
        "id": "AVuRfPLICO_T"
      }
    },
    {
      "cell_type": "code",
      "source": [
        "# and or not vardır 3 tane\n",
        "#mantıksal kullnaırken yazacağını karsı parantez yaz\n"
      ],
      "metadata": {
        "id": "gujQw6-wCFr_"
      },
      "execution_count": null,
      "outputs": []
    },
    {
      "cell_type": "markdown",
      "source": [
        "### and"
      ],
      "metadata": {
        "id": "e_IjmNf6CjGQ"
      }
    },
    {
      "cell_type": "code",
      "source": [
        "#and ve dir\n",
        "#and sağında ve solda true varss aturu olur"
      ],
      "metadata": {
        "id": "POkiADimCkld"
      },
      "execution_count": null,
      "outputs": []
    },
    {
      "cell_type": "code",
      "source": [
        "#true and true  true\n",
        "# tr fs fs;"
      ],
      "metadata": {
        "id": "STed4wEQCvFu"
      },
      "execution_count": null,
      "outputs": []
    },
    {
      "cell_type": "code",
      "source": [
        "#fs fs fs"
      ],
      "metadata": {
        "id": "vSl17lrbC0o3"
      },
      "execution_count": null,
      "outputs": []
    },
    {
      "cell_type": "code",
      "source": [
        "True and False"
      ],
      "metadata": {
        "colab": {
          "base_uri": "https://localhost:8080/"
        },
        "id": "kK8HZLTVC2kZ",
        "outputId": "29a6ab1a-c275-4897-8b39-9f20d29de4f9"
      },
      "execution_count": null,
      "outputs": [
        {
          "output_type": "execute_result",
          "data": {
            "text/plain": [
              "False"
            ]
          },
          "metadata": {},
          "execution_count": 13
        }
      ]
    },
    {
      "cell_type": "code",
      "source": [
        "(5 == 5) and (3 > 8)"
      ],
      "metadata": {
        "colab": {
          "base_uri": "https://localhost:8080/"
        },
        "id": "rwQwi_36C61b",
        "outputId": "b135de91-7f59-4154-ee24-dd383f5efbfc"
      },
      "execution_count": null,
      "outputs": [
        {
          "output_type": "execute_result",
          "data": {
            "text/plain": [
              "False"
            ]
          },
          "metadata": {},
          "execution_count": 15
        }
      ]
    },
    {
      "cell_type": "code",
      "source": [
        "(8 >= 8) and (1500<= 100)"
      ],
      "metadata": {
        "colab": {
          "base_uri": "https://localhost:8080/"
        },
        "id": "mp-GunwCDHFa",
        "outputId": "25ba9f76-56b2-474a-9676-4bf5a0981ea2"
      },
      "execution_count": null,
      "outputs": [
        {
          "output_type": "execute_result",
          "data": {
            "text/plain": [
              "False"
            ]
          },
          "metadata": {},
          "execution_count": 16
        }
      ]
    },
    {
      "cell_type": "code",
      "source": [
        "(9>2) and (50<= 50)"
      ],
      "metadata": {
        "colab": {
          "base_uri": "https://localhost:8080/"
        },
        "id": "W2RK0rxHDW4H",
        "outputId": "b5e41adf-cda3-453c-c3a8-6cd5348fc903"
      },
      "execution_count": null,
      "outputs": [
        {
          "output_type": "execute_result",
          "data": {
            "text/plain": [
              "True"
            ]
          },
          "metadata": {},
          "execution_count": 17
        }
      ]
    },
    {
      "cell_type": "markdown",
      "source": [
        "### or"
      ],
      "metadata": {
        "id": "-hUwH9OMDmL0"
      }
    },
    {
      "cell_type": "code",
      "source": [
        "# or veya\n",
        "# true varsa true"
      ],
      "metadata": {
        "id": "fX7t8TzCDnn8"
      },
      "execution_count": null,
      "outputs": []
    },
    {
      "cell_type": "code",
      "source": [
        "# tr tr tr\n",
        "# tr fs tr\n",
        "# fs fs fs"
      ],
      "metadata": {
        "id": "qld7XRNQD1Oj"
      },
      "execution_count": null,
      "outputs": []
    },
    {
      "cell_type": "code",
      "source": [
        "False or True"
      ],
      "metadata": {
        "colab": {
          "base_uri": "https://localhost:8080/"
        },
        "id": "ot5yfAlyD8kV",
        "outputId": "c0bd54f7-05d0-45aa-dcb9-b5733a4e1ecf"
      },
      "execution_count": null,
      "outputs": [
        {
          "output_type": "execute_result",
          "data": {
            "text/plain": [
              "True"
            ]
          },
          "metadata": {},
          "execution_count": 22
        }
      ]
    },
    {
      "cell_type": "code",
      "source": [
        "(7 < 1) or (324321242<3254435434534532)"
      ],
      "metadata": {
        "colab": {
          "base_uri": "https://localhost:8080/"
        },
        "id": "a-lirCHBEBja",
        "outputId": "dd4167b1-7f19-436c-9c27-ec5a1037aa47"
      },
      "execution_count": null,
      "outputs": [
        {
          "output_type": "execute_result",
          "data": {
            "text/plain": [
              "True"
            ]
          },
          "metadata": {},
          "execution_count": 24
        }
      ]
    },
    {
      "cell_type": "code",
      "source": [
        "#bitti"
      ],
      "metadata": {
        "id": "Ql7zTocfEL8K"
      },
      "execution_count": null,
      "outputs": []
    },
    {
      "cell_type": "code",
      "source": [],
      "metadata": {
        "id": "VzH3f508EcF4"
      },
      "execution_count": null,
      "outputs": []
    }
  ]
}