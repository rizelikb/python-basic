{
  "nbformat": 4,
  "nbformat_minor": 0,
  "metadata": {
    "colab": {
      "provenance": []
    },
    "kernelspec": {
      "name": "python3",
      "display_name": "Python 3"
    },
    "language_info": {
      "name": "python"
    }
  },
  "cells": [
    {
      "cell_type": "markdown",
      "source": [
        "#değişken atamaları"
      ],
      "metadata": {
        "id": "PjyAvYkx2qOh"
      }
    },
    {
      "cell_type": "code",
      "execution_count": null,
      "metadata": {
        "id": "NJqTN5RM2euu"
      },
      "outputs": [],
      "source": [
        "# saklamak istediğiimiz verileri bir değişken içerisinde saklayabiliriz\n",
        "# oluşturacsağımız değişkenlerin isimlerini biz belirleriz( bazı kural var)\n",
        "# değişkene atama yapmak için = işareti kullanılır"
      ]
    },
    {
      "cell_type": "code",
      "source": [
        "x = 10 #x değişkeniiçerisine 10 u atadık"
      ],
      "metadata": {
        "id": "kN94Zf7o2wX4"
      },
      "execution_count": null,
      "outputs": []
    },
    {
      "cell_type": "code",
      "source": [
        "x * 100"
      ],
      "metadata": {
        "colab": {
          "base_uri": "https://localhost:8080/"
        },
        "id": "LEBERxxr3clL",
        "outputId": "ae43d28c-d685-4334-e396-a8471f36886e"
      },
      "execution_count": null,
      "outputs": [
        {
          "output_type": "execute_result",
          "data": {
            "text/plain": [
              "1000"
            ]
          },
          "metadata": {},
          "execution_count": 3
        }
      ]
    },
    {
      "cell_type": "code",
      "source": [
        "a = 5\n",
        "g = 100\n",
        "y = 24"
      ],
      "metadata": {
        "id": "daGuVZnP3gDS"
      },
      "execution_count": null,
      "outputs": []
    },
    {
      "cell_type": "code",
      "source": [
        "a + g * y / x"
      ],
      "metadata": {
        "colab": {
          "base_uri": "https://localhost:8080/"
        },
        "id": "8OKV94hR3syH",
        "outputId": "3584d245-45e5-4606-ecb9-be80e42837d1"
      },
      "execution_count": null,
      "outputs": [
        {
          "output_type": "execute_result",
          "data": {
            "text/plain": [
              "245.0"
            ]
          },
          "metadata": {},
          "execution_count": 6
        }
      ]
    },
    {
      "cell_type": "code",
      "source": [
        "k = a**y"
      ],
      "metadata": {
        "id": "AvWfjgjn35JV"
      },
      "execution_count": null,
      "outputs": []
    },
    {
      "cell_type": "code",
      "source": [
        "x"
      ],
      "metadata": {
        "colab": {
          "base_uri": "https://localhost:8080/"
        },
        "id": "CXZ-Q9Ad4BQ4",
        "outputId": "724221b3-93a2-4746-ee93-5dcbc602ba00"
      },
      "execution_count": null,
      "outputs": [
        {
          "output_type": "execute_result",
          "data": {
            "text/plain": [
              "10"
            ]
          },
          "metadata": {},
          "execution_count": 9
        }
      ]
    },
    {
      "cell_type": "code",
      "source": [
        "x = 7# bu işleme yapılan son atama geçerli( owerwritting)"
      ],
      "metadata": {
        "id": "f-5ZBTUE4IOk"
      },
      "execution_count": null,
      "outputs": []
    },
    {
      "cell_type": "code",
      "source": [
        "x"
      ],
      "metadata": {
        "colab": {
          "base_uri": "https://localhost:8080/"
        },
        "id": "IzgdjAew4Li1",
        "outputId": "1d7ff3ad-ec0b-4d41-ee78-ab72a57373ee"
      },
      "execution_count": null,
      "outputs": [
        {
          "output_type": "execute_result",
          "data": {
            "text/plain": [
              "7"
            ]
          },
          "metadata": {},
          "execution_count": 11
        }
      ]
    },
    {
      "cell_type": "code",
      "source": [
        "# soru 1 x e 324 ü y ye 36 yı z ye 154 ü atayin\n",
        "# x ie z toplamını carp y"
      ],
      "metadata": {
        "id": "2HC3UXeZ4Okq"
      },
      "execution_count": null,
      "outputs": []
    },
    {
      "cell_type": "code",
      "source": [
        "x = 324\n",
        "y = 36\n",
        "z = 154"
      ],
      "metadata": {
        "id": "2P_HV9Vw4mZc"
      },
      "execution_count": null,
      "outputs": []
    },
    {
      "cell_type": "code",
      "source": [
        "(x + z) * y"
      ],
      "metadata": {
        "colab": {
          "base_uri": "https://localhost:8080/"
        },
        "id": "oULlgLxz4ulY",
        "outputId": "835b1a15-32a5-42da-942f-b8b5179a0cb1"
      },
      "execution_count": null,
      "outputs": [
        {
          "output_type": "execute_result",
          "data": {
            "text/plain": [
              "17208"
            ]
          },
          "metadata": {},
          "execution_count": 15
        }
      ]
    },
    {
      "cell_type": "code",
      "source": [
        "# soru 2 a ya 762 b ye 921 c ye 6 ata\n",
        "# ayı 3 katında b nin 2 katını cıkar cıkanı c inci üssünü al"
      ],
      "metadata": {
        "id": "388Minkn4xp_"
      },
      "execution_count": null,
      "outputs": []
    },
    {
      "cell_type": "code",
      "source": [
        "a = 762\n",
        "b = 921\n",
        "c = 6"
      ],
      "metadata": {
        "id": "Tzj-xP3F5NXr"
      },
      "execution_count": null,
      "outputs": []
    },
    {
      "cell_type": "code",
      "source": [
        "(3 * a - 2 * b) ** c"
      ],
      "metadata": {
        "colab": {
          "base_uri": "https://localhost:8080/"
        },
        "id": "c6bw3D505VHa",
        "outputId": "ff7ce5e3-7caf-45b3-e676-a5f3a6e48c70"
      },
      "execution_count": null,
      "outputs": [
        {
          "output_type": "execute_result",
          "data": {
            "text/plain": [
              "7661218005651456"
            ]
          },
          "metadata": {},
          "execution_count": 18
        }
      ]
    },
    {
      "cell_type": "code",
      "source": [
        "# x i 5 y yi 13 z yi 8 ata\n",
        "# y yi x. kuvvetetn z nin x kuvvet cıkar"
      ],
      "metadata": {
        "id": "hldTFha85opy"
      },
      "execution_count": null,
      "outputs": []
    },
    {
      "cell_type": "code",
      "source": [
        "x = 5\n",
        "y = 13\n",
        "z = 8"
      ],
      "metadata": {
        "id": "DLcLV4gn53oP"
      },
      "execution_count": null,
      "outputs": []
    },
    {
      "cell_type": "code",
      "source": [
        "y ** x - z ** x"
      ],
      "metadata": {
        "colab": {
          "base_uri": "https://localhost:8080/"
        },
        "id": "PtzGtZVi5-rB",
        "outputId": "783b8984-ff0f-4d84-fd69-2a0dfd71cdcb"
      },
      "execution_count": null,
      "outputs": [
        {
          "output_type": "execute_result",
          "data": {
            "text/plain": [
              "338525"
            ]
          },
          "metadata": {},
          "execution_count": 21
        }
      ]
    },
    {
      "cell_type": "markdown",
      "source": [
        "## değisken ismi atama kuralu"
      ],
      "metadata": {
        "id": "_hpYgdbP6H2r"
      }
    },
    {
      "cell_type": "code",
      "source": [
        "## değisken ismi biz belirleriz ama kural var\n",
        "\n",
        "# 1değisken isim rakan ile başlayamaz\n",
        "\n",
        "# 2 değisken isim bosluk yok\n",
        "# 3 değişken isim öel sembol yok ( _ hareç)\n",
        "#4 büyük küçük har f duyarı var\n",
        "# 5 değilen işmi varken türkçe yok\n",
        "# 6 değişkjen isminde genelde küçük harf basla\n",
        "# 7 uzun yazılırken en meshur 2 yöntem var ( sneak case , lemacase)"
      ],
      "metadata": {
        "id": "ZwT8MY1U6FbH"
      },
      "execution_count": null,
      "outputs": []
    },
    {
      "cell_type": "code",
      "source": [
        "elma = 20"
      ],
      "metadata": {
        "id": "-lah0KKq6Ne_"
      },
      "execution_count": null,
      "outputs": []
    },
    {
      "cell_type": "code",
      "source": [
        "?isim = onur"
      ],
      "metadata": {
        "colab": {
          "base_uri": "https://localhost:8080/"
        },
        "id": "JNSZ-RPe6QY8",
        "outputId": "50474906-df66-466b-a402-c50eed0cd02e"
      },
      "execution_count": null,
      "outputs": [
        {
          "output_type": "stream",
          "name": "stdout",
          "text": [
            "Object `isim = onur` not found.\n"
          ]
        }
      ]
    },
    {
      "cell_type": "code",
      "source": [
        "araba = \"bmv\""
      ],
      "metadata": {
        "id": "1OJMMmUz7iV8"
      },
      "execution_count": null,
      "outputs": []
    },
    {
      "cell_type": "code",
      "source": [
        "araba"
      ],
      "metadata": {
        "colab": {
          "base_uri": "https://localhost:8080/",
          "height": 35
        },
        "id": "HRcIH5Qi7n1y",
        "outputId": "9c8ae7a8-5dcb-4b43-9b6c-0a5250ef1b3a"
      },
      "execution_count": null,
      "outputs": [
        {
          "output_type": "execute_result",
          "data": {
            "text/plain": [
              "'bmv'"
            ],
            "application/vnd.google.colaboratory.intrinsic+json": {
              "type": "string"
            }
          },
          "metadata": {},
          "execution_count": 28
        }
      ]
    },
    {
      "cell_type": "code",
      "source": [
        "kuzey_yas = 13 # sneak_case"
      ],
      "metadata": {
        "id": "buwJJ_DW7tqY"
      },
      "execution_count": null,
      "outputs": []
    },
    {
      "cell_type": "code",
      "source": [
        "keremYas = 13 #lameCase"
      ],
      "metadata": {
        "id": "BU9FIP3-79JK"
      },
      "execution_count": null,
      "outputs": []
    },
    {
      "cell_type": "code",
      "source": [],
      "metadata": {
        "id": "Nmh9JJkS8L-T"
      },
      "execution_count": null,
      "outputs": []
    }
  ]
}