{
  "nbformat": 4,
  "nbformat_minor": 0,
  "metadata": {
    "colab": {
      "provenance": []
    },
    "kernelspec": {
      "name": "python3",
      "display_name": "Python 3"
    },
    "language_info": {
      "name": "python"
    }
  },
  "cells": [
    {
      "cell_type": "markdown",
      "source": [
        "#2 str ifade birbir eklenebilir"
      ],
      "metadata": {
        "id": "YnJpLd3MQZrV"
      }
    },
    {
      "cell_type": "code",
      "execution_count": null,
      "metadata": {
        "id": "0VXzz29BQUSg"
      },
      "outputs": [],
      "source": [
        "isim =\"kuzey\"\n",
        "soy =\"beyzz\""
      ]
    },
    {
      "cell_type": "code",
      "source": [
        "print(isim,soy)#iki değ arasına vir koy bos bırak"
      ],
      "metadata": {
        "colab": {
          "base_uri": "https://localhost:8080/"
        },
        "id": "cmTIdzFdQsM6",
        "outputId": "6aceb2ad-3d84-4f6c-c1b1-51e68e627d5a"
      },
      "execution_count": null,
      "outputs": [
        {
          "output_type": "stream",
          "name": "stdout",
          "text": [
            "kuzey beyzz\n"
          ]
        }
      ]
    },
    {
      "cell_type": "code",
      "source": [
        "print(isim + soy)# artı ise bos yok"
      ],
      "metadata": {
        "colab": {
          "base_uri": "https://localhost:8080/"
        },
        "id": "nInrYSLcQw2N",
        "outputId": "cd48d708-62ff-438f-c424-a560d94a678c"
      },
      "execution_count": null,
      "outputs": [
        {
          "output_type": "stream",
          "name": "stdout",
          "text": [
            "kuzeybeyzz\n"
          ]
        }
      ]
    },
    {
      "cell_type": "code",
      "source": [
        "print(isim + \" \" + soy)"
      ],
      "metadata": {
        "colab": {
          "base_uri": "https://localhost:8080/"
        },
        "id": "vDvI5vpMQ6YD",
        "outputId": "bb3f66bb-8a2e-4ba3-cc20-f0969bb68438"
      },
      "execution_count": null,
      "outputs": [
        {
          "output_type": "stream",
          "name": "stdout",
          "text": [
            "kuzey beyzz\n"
          ]
        }
      ]
    },
    {
      "cell_type": "code",
      "source": [
        "print(isim*5)"
      ],
      "metadata": {
        "colab": {
          "base_uri": "https://localhost:8080/"
        },
        "id": "QwAYszm_RHGX",
        "outputId": "bfcd09d3-d441-4e48-cb28-143f0ffd08a6"
      },
      "execution_count": null,
      "outputs": [
        {
          "output_type": "stream",
          "name": "stdout",
          "text": [
            "kuzeykuzeykuzeykuzeykuzey\n"
          ]
        }
      ]
    },
    {
      "cell_type": "markdown",
      "source": [
        "#formatlama"
      ],
      "metadata": {
        "id": "CWO7Pte3RXLf"
      }
    },
    {
      "cell_type": "code",
      "source": [
        "#bir str içer önce tanım bir deği göndermekmiç formatlama yap\n",
        "#format için{ kullan}"
      ],
      "metadata": {
        "id": "1Jytq6FHRRt_"
      },
      "execution_count": null,
      "outputs": []
    },
    {
      "cell_type": "code",
      "source": [
        "isim = \"kuzey\"\n",
        "soyisim =\"beyaz\"\n",
        "yas=13"
      ],
      "metadata": {
        "id": "3S0C9Uq6RY3T"
      },
      "execution_count": null,
      "outputs": []
    },
    {
      "cell_type": "code",
      "source": [
        "# amac uc değ formatlaam kullanarak merhaba benim ad .. soyadım .. suanda .... yasındayım yaz\n",
        "#formatb en ilkel\n",
        "print(\"merhaba benim adım\" , isim ,\",soyadım\" ,soyisim , \",suanda\" , yas ,\",yasındayım\")\n"
      ],
      "metadata": {
        "colab": {
          "base_uri": "https://localhost:8080/"
        },
        "id": "9ExyEpIFRxR5",
        "outputId": "bbbd3123-8961-4f0d-f8a8-9adfb6429e15"
      },
      "execution_count": null,
      "outputs": [
        {
          "output_type": "stream",
          "name": "stdout",
          "text": [
            "merhaba benim adım kuzey ,soyadım beyaz ,suanda 13 ,yasındayım\n"
          ]
        }
      ]
    },
    {
      "cell_type": "code",
      "source": [
        "# 2 biraz da yeni butun prog dil var\n",
        "print(\"merhabalar benim ad {},soyad {},suanda {} yasındayım\".format(isim,soyisim,yas))"
      ],
      "metadata": {
        "colab": {
          "base_uri": "https://localhost:8080/"
        },
        "id": "fmeMCLijSkKZ",
        "outputId": "78f09fc1-2fc6-427b-eef8-538ed096c167"
      },
      "execution_count": null,
      "outputs": [
        {
          "output_type": "stream",
          "name": "stdout",
          "text": [
            "merhabalar benim ad kuzey,soyad beyaz,suanda 13 yasındayım\n"
          ]
        }
      ]
    },
    {
      "cell_type": "code",
      "source": [
        "# 3 bu en iyi ama sade python varfstring denir\n",
        "print(f\"merhaba benim ad { isim} , soyad {soyisim} yas {yas}\")"
      ],
      "metadata": {
        "colab": {
          "base_uri": "https://localhost:8080/"
        },
        "id": "eGgBXPSYTG2T",
        "outputId": "4f865d01-b62f-407c-82b6-5dbe37be87bb"
      },
      "execution_count": null,
      "outputs": [
        {
          "output_type": "stream",
          "name": "stdout",
          "text": [
            "merhaba benim ad kuzey , soyad beyaz yas 13\n"
          ]
        }
      ]
    },
    {
      "cell_type": "code",
      "source": [
        "#soru isim isim soya soy okul oukuk yaz format yap meraba bem soy suanda okuyom"
      ],
      "metadata": {
        "id": "HDfDf4VyTwSN"
      },
      "execution_count": null,
      "outputs": []
    },
    {
      "cell_type": "code",
      "source": [
        "okul = \"sehit kemal mutlu fen lisesi\""
      ],
      "metadata": {
        "id": "Nsw2V00PUVC-"
      },
      "execution_count": null,
      "outputs": []
    },
    {
      "cell_type": "code",
      "source": [
        "print(f\"merhaba ben {isim} soyadım {soyisim} okulum {okul}\")"
      ],
      "metadata": {
        "colab": {
          "base_uri": "https://localhost:8080/"
        },
        "id": "l4Zp8t7BUdCt",
        "outputId": "58183a35-b0ff-4720-9efa-b18b31933691"
      },
      "execution_count": null,
      "outputs": [
        {
          "output_type": "stream",
          "name": "stdout",
          "text": [
            "merhaba ben kuzey soyadım beyaz okulum sehit kemal mutlu fen lisesi\n"
          ]
        }
      ]
    },
    {
      "cell_type": "code",
      "source": [
        "#sor baba baba anna anna  benim adım.. sbabamın adı... anamım adı... ve soy adımıaz ...\n",
        "baba =\"onur \"\n",
        "anne =\"nesrin\""
      ],
      "metadata": {
        "id": "eBqXTK_BUv9I"
      },
      "execution_count": null,
      "outputs": []
    },
    {
      "cell_type": "code",
      "source": [
        "print(f\"benim ad{isim} babamın ad {baba} annemşn ad{anne} ve soyadımız {soyisim}\")"
      ],
      "metadata": {
        "colab": {
          "base_uri": "https://localhost:8080/"
        },
        "id": "5QkWxc5LU-bk",
        "outputId": "da9c7dd8-32ff-49bf-f3e5-5d67e9ad5a99"
      },
      "execution_count": null,
      "outputs": [
        {
          "output_type": "stream",
          "name": "stdout",
          "text": [
            "benim adkuzey babamın ad onur  annemşn adnesrin ve soyadımız beyaz\n"
          ]
        }
      ]
    },
    {
      "cell_type": "code",
      "source": [],
      "metadata": {
        "id": "1C0jr05FVgfq"
      },
      "execution_count": null,
      "outputs": []
    }
  ]
}